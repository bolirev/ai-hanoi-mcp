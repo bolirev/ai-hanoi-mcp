{
 "cells": [
  {
   "cell_type": "markdown",
   "metadata": {},
   "source": [
    "# Solving Hanoi Tower with AI\n",
    "\n",
    "The read of the illusion of thinking (from Apple's research) found reasonance in my own fun in problem solving. At a certain problem complexity, I give up when not equipped with the right tools. Perhaps then my problem solving is not much about thinking about the problem, but thinking about the tools to solve the problem. So it lead me to this question:\n",
    "\n",
    "- Does non thinking AI solves puzzle better than thinking one when provided with the right tools?\n",
    "- Does thinking AI are able to pick up the right tools to solve it?\n",
    "\n",
    "In this notebook, I wanted to explore the first question based on reading about mcp (link to medium), hanoi algorithm (link to medium), and the Illusion of thinking article (link to article)\n",
    "\n",
    "\n",
    "In this experiment, we'll:\n",
    "1. Set up an MCP (Model Context Protocol) server for puzzle validation\n",
    "2. Configure an AI agent to solve the Tower of Hanoi puzzle\n",
    "3. Compare different approaches (with/without MCP, with/without pseudocode)\n",
    "4. Analyze the agent's problem-solving strategies\n",
    "\n",
    "The Tower of Hanoi serves as an excellent test case because:\n",
    "- It has a clear, well-defined solution\n",
    "- It requires systematic thinking and planning\n",
    "- It can be validated step-by-step\n",
    "- It demonstrates both recursive and iterative approaches"
   ]
  },
  {
   "cell_type": "markdown",
   "metadata": {},
   "source": [
    "## Hanoi MCP server\n",
    "\n",
    "The server provides a hanoi tower puzzle solver, a python version of the following pseudo code algorithm\n",
    "\n",
    "```\n",
    "ALGORITHM Solve(n, source, target, auxiliary, moves)\n",
    "    // n = number of disks to move\n",
    "    // source = starting peg (0, 1, or 2)\n",
    "    // target = destination peg (0, 1, or 2)\n",
    "    // auxiliary = the unused peg (0, 1, or 2)\n",
    "    // moves = list to store the sequence of moves\n",
    "\n",
    "    IF n equals 1 THEN\n",
    "        // Get the top disk from source peg\n",
    "        disk = the top disk on the source peg\n",
    "        // Add the move to our list: [disk_id, source, target]\n",
    "        ADD [disk, source, target] to moves\n",
    "        RETURN\n",
    "    END IF\n",
    "\n",
    "    // Move n-1 disks from source to auxiliary peg\n",
    "    Solve(n-1, source, auxiliary, target, moves)\n",
    "\n",
    "    // Move the nth disk from source to target\n",
    "    disk = the top disk on the source peg\n",
    "    ADD [disk, source, target] to moves\n",
    "\n",
    "    // Move n-1 disks from auxiliary to target\n",
    "    Solve(n-1, auxiliary, target, source, moves)\n",
    "\n",
    "    END ALGORITHM\n",
    "```"
   ]
  },
  {
   "cell_type": "markdown",
   "metadata": {},
   "source": [
    "## Example "
   ]
  },
  {
   "cell_type": "code",
   "execution_count": 4,
   "metadata": {},
   "outputs": [],
   "source": [
    "def hanoi_solver(n: int) -> list[tuple[int, int, int]]:\n",
    "    \"\"\"Solve the Tower of Hanoi puzzle\"\"\"\n",
    "    moves = []\n",
    "    pegs = [list(range(n, 0, -1)), [], []]  # All disks on the first peg\n",
    "    hanoi(n, moves, pegs)  # Generate the move sequence\n",
    "    return moves\n",
    "\n",
    "\n",
    "def hanoi(n, moves, pegs, start_peg=0, auxiliary_peg=1, target_peg=2):\n",
    "    \"\"\"Solve the Tower of Hanoi puzzle\"\"\"\n",
    "    if n == 1:\n",
    "        # Base case: Move the smallest disk from the start peg to the target peg\n",
    "        disk = pegs[start_peg][-1]\n",
    "        moves.append((disk, start_peg, target_peg))  # Keep 0-based indexing\n",
    "        # Perform the move\n",
    "        pegs[target_peg].append(pegs[start_peg].pop())\n",
    "        return\n",
    "\n",
    "    # Recursive case\n",
    "    # Move n-1 disks from start_peg to auxiliary_peg using target_peg\n",
    "    hanoi(\n",
    "        n - 1,\n",
    "        moves,\n",
    "        pegs,\n",
    "        start_peg,\n",
    "        auxiliary_peg=target_peg,\n",
    "        target_peg=auxiliary_peg,\n",
    "    )\n",
    "\n",
    "    # Move the nth disk from start_peg to target_peg\n",
    "    disk = pegs[start_peg][-1]\n",
    "    moves.append((disk, start_peg, target_peg))  # Keep 0-based indexing\n",
    "    pegs[target_peg].append(pegs[start_peg].pop())\n",
    "\n",
    "    # Move n-1 disks from auxiliary_peg to target_peg using start_peg\n",
    "    hanoi(\n",
    "        n - 1,\n",
    "        moves,\n",
    "        pegs,\n",
    "        start_peg=auxiliary_peg,\n",
    "        target_peg=target_peg,\n",
    "        auxiliary_peg=start_peg,\n",
    "    )"
   ]
  },
  {
   "cell_type": "code",
   "execution_count": 7,
   "metadata": {},
   "outputs": [
    {
     "data": {
      "text/plain": [
       "127"
      ]
     },
     "execution_count": 7,
     "metadata": {},
     "output_type": "execute_result"
    }
   ],
   "source": [
    "len(hanoi_solver(7))"
   ]
  },
  {
   "cell_type": "code",
   "execution_count": null,
   "metadata": {},
   "outputs": [],
   "source": []
  }
 ],
 "metadata": {
  "kernelspec": {
   "display_name": ".venv",
   "language": "python",
   "name": "python3"
  },
  "language_info": {
   "codemirror_mode": {
    "name": "ipython",
    "version": 3
   },
   "file_extension": ".py",
   "mimetype": "text/x-python",
   "name": "python",
   "nbconvert_exporter": "python",
   "pygments_lexer": "ipython3",
   "version": "3.12.10"
  }
 },
 "nbformat": 4,
 "nbformat_minor": 2
}
