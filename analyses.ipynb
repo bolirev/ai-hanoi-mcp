{
 "cells": [
  {
   "cell_type": "code",
   "execution_count": 1,
   "metadata": {},
   "outputs": [],
   "source": [
    "import multiprocessing\n",
    "import logging\n",
    "from server.math_server import run_mcp_server\n",
    "\n",
    "multiprocessing.Process(target=run_mcp_server).start()"
   ]
  },
  {
   "cell_type": "code",
   "execution_count": null,
   "metadata": {},
   "outputs": [],
   "source": [
    "from config.hanoi_config import HanoiConfig, HanoiSolution, HanoiMove\n",
    "from client.client_hanoi_tower import run_agent\n",
    "import asyncio\n"
   ]
  },
  {
   "cell_type": "code",
   "execution_count": 33,
   "metadata": {},
   "outputs": [],
   "source": [
    "\n",
    "config = HanoiConfig(n_disks = 2)\n",
    "config.use_mcp = False\n",
    "config.add_pseudocode = False\n",
    "config.model_name = 'o3-mini'# \"gpt-4o-mini\"\n",
    "config.server_command = \"python\"\n",
    "config.server_args = [\"server/hanoi.py\"]"
   ]
  },
  {
   "cell_type": "code",
   "execution_count": 34,
   "metadata": {},
   "outputs": [
    {
     "name": "stderr",
     "output_type": "stream",
     "text": [
      "HTTP Request: POST https://api.openai.com/v1/chat/completions \"HTTP/1.1 200 OK\"\n",
      "HTTP Request: POST https://api.openai.com/v1/chat/completions \"HTTP/1.1 200 OK\"\n"
     ]
    }
   ],
   "source": [
    "# Use await instead of asyncio.run() in Jupyter notebooks\n",
    "result = await run_agent(config=config)"
   ]
  },
  {
   "cell_type": "code",
   "execution_count": 35,
   "metadata": {},
   "outputs": [
    {
     "name": "stdout",
     "output_type": "stream",
     "text": [
      "\n",
      "Structured solution:\n",
      "Total moves: 3\n"
     ]
    }
   ],
   "source": [
    "if \"structured_response\" in result:\n",
    "        print(\"\\nStructured solution:\")\n",
    "        solution = result[\"structured_response\"]\n",
    "        print(f\"Total moves: {solution.total_moves}\")"
   ]
  },
  {
   "cell_type": "code",
   "execution_count": 36,
   "metadata": {},
   "outputs": [
    {
     "data": {
      "text/plain": [
       "{'is_valid': True,\n",
       " 'errors': [],\n",
       " 'final_state': [[], [], [2, 1]],\n",
       " 'moves_validated': 3}"
      ]
     },
     "execution_count": 36,
     "metadata": {},
     "output_type": "execute_result"
    }
   ],
   "source": [
    "from server.hanoi import hanoi_solver\n",
    "\n",
    "moves = hanoi_solver(2)\n",
    "moves_hannoi = []\n",
    "for move in moves:\n",
    "    moves_hannoi.append(HanoiMove(disk_id=move[0], from_peg=move[1], to_peg=move[2]))\n",
    "solution_hannoi = HanoiSolution(moves=moves_hannoi, total_moves=len(moves_hannoi))\n",
    "solution_hannoi.validate_solution(2)"
   ]
  },
  {
   "cell_type": "code",
   "execution_count": 26,
   "metadata": {},
   "outputs": [
    {
     "data": {
      "text/plain": [
       "{'is_valid': True,\n",
       " 'errors': [],\n",
       " 'final_state': [[], [], [2, 1]],\n",
       " 'moves_validated': 3}"
      ]
     },
     "execution_count": 26,
     "metadata": {},
     "output_type": "execute_result"
    }
   ],
   "source": []
  },
  {
   "cell_type": "code",
   "execution_count": 30,
   "metadata": {},
   "outputs": [
    {
     "data": {
      "text/plain": [
       "{'is_valid': True,\n",
       " 'errors': [],\n",
       " 'final_state': [[], [], [2, 1]],\n",
       " 'moves_validated': 3}"
      ]
     },
     "execution_count": 30,
     "metadata": {},
     "output_type": "execute_result"
    }
   ],
   "source": [
    "solution.validate_solution(2)"
   ]
  }
 ],
 "metadata": {
  "kernelspec": {
   "display_name": ".venv",
   "language": "python",
   "name": "python3"
  },
  "language_info": {
   "codemirror_mode": {
    "name": "ipython",
    "version": 3
   },
   "file_extension": ".py",
   "mimetype": "text/x-python",
   "name": "python",
   "nbconvert_exporter": "python",
   "pygments_lexer": "ipython3",
   "version": "3.12.10"
  }
 },
 "nbformat": 4,
 "nbformat_minor": 2
}
