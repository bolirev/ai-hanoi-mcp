{
 "cells": [
  {
   "cell_type": "markdown",
   "metadata": {},
   "source": [
    "# Solving Hanoi Tower with AI\n",
    "\n",
    "The read of the illusion of thinking (from Apple's research) found reasonance in my own fun in problem solving. At a certain problem complexity, I give up when not equipped with the right tools. Perhaps then my problem solving is not much about thinking about the problem, but thinking about the tools to solve the problem. So it lead me to this question:\n",
    "\n",
    "- Does non thinking AI solves puzzle better than thinking one when provided with the right tools?\n",
    "- Does thinking AI are able to pick up the right tools to solve it?\n",
    "\n",
    "In this notebook, I wanted to explore the first question based on reading about mcp (link to medium), hanoi algorithm (link to medium), and the Illusion of thinking article (link to article)\n",
    "\n",
    "\n",
    "In this experiment, we'll:\n",
    "1. Set up an MCP (Model Context Protocol) server for puzzle validation\n",
    "2. Configure an AI agent to solve the Tower of Hanoi puzzle\n",
    "3. Compare different approaches (with/without MCP, with/without pseudocode)\n",
    "4. Look at the success rate of the AI agent\n",
    "\n",
    "The Tower of Hanoi serves as an excellent test case because:\n",
    "- It has a clear, well-defined solution\n",
    "- It requires systematic thinking and planning\n",
    "- It can be validated step-by-step"
   ]
  },
  {
   "cell_type": "markdown",
   "metadata": {},
   "source": [
    "## Hanoi MCP server\n",
    "\n",
    "The server provides a hanoi tower puzzle solver, a python version of the following pseudo code algorithm\n",
    "\n",
    "```\n",
    "ALGORITHM Solve(n, source, target, auxiliary, moves)\n",
    "    // n = number of disks to move\n",
    "    // source = starting peg (0, 1, or 2)\n",
    "    // target = destination peg (0, 1, or 2)\n",
    "    // auxiliary = the unused peg (0, 1, or 2)\n",
    "    // moves = list to store the sequence of moves\n",
    "\n",
    "    IF n equals 1 THEN\n",
    "        // Get the top disk from source peg\n",
    "        disk = the top disk on the source peg\n",
    "        // Add the move to our list: [disk_id, source, target]\n",
    "        ADD [disk, source, target] to moves\n",
    "        RETURN\n",
    "    END IF\n",
    "\n",
    "    // Move n-1 disks from source to auxiliary peg\n",
    "    Solve(n-1, source, auxiliary, target, moves)\n",
    "\n",
    "    // Move the nth disk from source to target\n",
    "    disk = the top disk on the source peg\n",
    "    ADD [disk, source, target] to moves\n",
    "\n",
    "    // Move n-1 disks from auxiliary to target\n",
    "    Solve(n-1, auxiliary, target, source, moves)\n",
    "\n",
    "    END ALGORITHM\n",
    "```"
   ]
  },
  {
   "cell_type": "code",
   "execution_count": 1,
   "metadata": {},
   "outputs": [],
   "source": [
    "import multiprocessing\n",
    "from server.hanoi import run_mcp_server\n",
    "\n",
    "multiprocessing.Process(target=run_mcp_server).start() "
   ]
  },
  {
   "cell_type": "markdown",
   "metadata": {},
   "source": [
    "## Example "
   ]
  },
  {
   "cell_type": "code",
   "execution_count": 2,
   "metadata": {},
   "outputs": [
    {
     "name": "stderr",
     "output_type": "stream",
     "text": [
      "\u001b[2;36m[06/21/25 15:32:56]\u001b[0m\u001b[2;36m \u001b[0m\u001b[34mINFO    \u001b[0m Starting Hanoi MCP server               \u001b]8;id=271691;file:///Users/olivierbertrand/my-test-project/ai-hanoi-mcp/server/hanoi.py\u001b\\\u001b[2mhanoi.py\u001b[0m\u001b]8;;\u001b\\\u001b[2m:\u001b[0m\u001b]8;id=846654;file:///Users/olivierbertrand/my-test-project/ai-hanoi-mcp/server/hanoi.py#69\u001b\\\u001b[2m69\u001b[0m\u001b]8;;\u001b\\\n"
     ]
    }
   ],
   "source": [
    "from config.hanoi_config import HanoiConfig, HanoiSolution, HanoiMove\n",
    "from client.client_hanoi_tower import run_agent\n",
    "from itertools import product\n",
    "import pandas as pd\n",
    "from datetime import datetime\n",
    "import os\n",
    "from tqdm import tqdm\n",
    "import pickle\n",
    "\n",
    "config = HanoiConfig(n_disks = 2)\n",
    "config.use_mcp = True\n",
    "config.add_pseudocode = True\n",
    "config.mcp_version = 1\n",
    "config.model_name = 'o3-mini'# 'gpt-4o-mini'\n",
    "config.server_command = \"python\"\n",
    "config.server_args = [\"server/hanoi.py\"]"
   ]
  },
  {
   "cell_type": "code",
   "execution_count": 3,
   "metadata": {},
   "outputs": [
    {
     "data": {
      "text/html": [
       "<pre style=\"white-space:pre;overflow-x:auto;line-height:normal;font-family:Menlo,'DejaVu Sans Mono',consolas,'Courier New',monospace\"><span style=\"color: #7fbfbf; text-decoration-color: #7fbfbf\">[06/21/25 15:33:02] </span><span style=\"color: #000080; text-decoration-color: #000080\">INFO    </span> HTTP Request: <span style=\"color: #808000; text-decoration-color: #808000; font-weight: bold\">POST</span> <span style=\"color: #0000ff; text-decoration-color: #0000ff; text-decoration: underline\">https://api.openai.com/v1/chat/completions</span>          <a href=\"file:///Users/olivierbertrand/gcp_projects/bigquery-dbt/bigquery-dbt/.venv/lib/python3.12/site-packages/httpx/_client.py\" target=\"_blank\"><span style=\"color: #7f7f7f; text-decoration-color: #7f7f7f\">_client.py</span></a><span style=\"color: #7f7f7f; text-decoration-color: #7f7f7f\">:</span><a href=\"file:///Users/olivierbertrand/gcp_projects/bigquery-dbt/bigquery-dbt/.venv/lib/python3.12/site-packages/httpx/_client.py#1740\" target=\"_blank\"><span style=\"color: #7f7f7f; text-decoration-color: #7f7f7f\">1740</span></a>\n",
       "<span style=\"color: #7fbfbf; text-decoration-color: #7fbfbf\">                    </span>         <span style=\"color: #008000; text-decoration-color: #008000\">\"HTTP/1.1 200 OK\"</span>                                                      <span style=\"color: #7f7f7f; text-decoration-color: #7f7f7f\">               </span>\n",
       "</pre>\n"
      ],
      "text/plain": [
       "\u001b[2;36m[06/21/25 15:33:02]\u001b[0m\u001b[2;36m \u001b[0m\u001b[34mINFO    \u001b[0m HTTP Request: \u001b[1;33mPOST\u001b[0m \u001b[4;94mhttps://api.openai.com/v1/chat/completions\u001b[0m          \u001b]8;id=453505;file:///Users/olivierbertrand/gcp_projects/bigquery-dbt/bigquery-dbt/.venv/lib/python3.12/site-packages/httpx/_client.py\u001b\\\u001b[2m_client.py\u001b[0m\u001b]8;;\u001b\\\u001b[2m:\u001b[0m\u001b]8;id=722388;file:///Users/olivierbertrand/gcp_projects/bigquery-dbt/bigquery-dbt/.venv/lib/python3.12/site-packages/httpx/_client.py#1740\u001b\\\u001b[2m1740\u001b[0m\u001b]8;;\u001b\\\n",
       "\u001b[2;36m                    \u001b[0m         \u001b[32m\"HTTP/1.1 200 OK\"\u001b[0m                                                      \u001b[2m               \u001b[0m\n"
      ]
     },
     "metadata": {},
     "output_type": "display_data"
    },
    {
     "data": {
      "text/html": [
       "<pre style=\"white-space:pre;overflow-x:auto;line-height:normal;font-family:Menlo,'DejaVu Sans Mono',consolas,'Courier New',monospace\"><span style=\"color: #7fbfbf; text-decoration-color: #7fbfbf\">[06/21/25 15:33:11] </span><span style=\"color: #000080; text-decoration-color: #000080\">INFO    </span> HTTP Request: <span style=\"color: #808000; text-decoration-color: #808000; font-weight: bold\">POST</span> <span style=\"color: #0000ff; text-decoration-color: #0000ff; text-decoration: underline\">https://api.openai.com/v1/chat/completions</span>          <a href=\"file:///Users/olivierbertrand/gcp_projects/bigquery-dbt/bigquery-dbt/.venv/lib/python3.12/site-packages/httpx/_client.py\" target=\"_blank\"><span style=\"color: #7f7f7f; text-decoration-color: #7f7f7f\">_client.py</span></a><span style=\"color: #7f7f7f; text-decoration-color: #7f7f7f\">:</span><a href=\"file:///Users/olivierbertrand/gcp_projects/bigquery-dbt/bigquery-dbt/.venv/lib/python3.12/site-packages/httpx/_client.py#1740\" target=\"_blank\"><span style=\"color: #7f7f7f; text-decoration-color: #7f7f7f\">1740</span></a>\n",
       "<span style=\"color: #7fbfbf; text-decoration-color: #7fbfbf\">                    </span>         <span style=\"color: #008000; text-decoration-color: #008000\">\"HTTP/1.1 200 OK\"</span>                                                      <span style=\"color: #7f7f7f; text-decoration-color: #7f7f7f\">               </span>\n",
       "</pre>\n"
      ],
      "text/plain": [
       "\u001b[2;36m[06/21/25 15:33:11]\u001b[0m\u001b[2;36m \u001b[0m\u001b[34mINFO    \u001b[0m HTTP Request: \u001b[1;33mPOST\u001b[0m \u001b[4;94mhttps://api.openai.com/v1/chat/completions\u001b[0m          \u001b]8;id=927572;file:///Users/olivierbertrand/gcp_projects/bigquery-dbt/bigquery-dbt/.venv/lib/python3.12/site-packages/httpx/_client.py\u001b\\\u001b[2m_client.py\u001b[0m\u001b]8;;\u001b\\\u001b[2m:\u001b[0m\u001b]8;id=676879;file:///Users/olivierbertrand/gcp_projects/bigquery-dbt/bigquery-dbt/.venv/lib/python3.12/site-packages/httpx/_client.py#1740\u001b\\\u001b[2m1740\u001b[0m\u001b]8;;\u001b\\\n",
       "\u001b[2;36m                    \u001b[0m         \u001b[32m\"HTTP/1.1 200 OK\"\u001b[0m                                                      \u001b[2m               \u001b[0m\n"
      ]
     },
     "metadata": {},
     "output_type": "display_data"
    },
    {
     "data": {
      "text/html": [
       "<pre style=\"white-space:pre;overflow-x:auto;line-height:normal;font-family:Menlo,'DejaVu Sans Mono',consolas,'Courier New',monospace\"><span style=\"color: #7fbfbf; text-decoration-color: #7fbfbf\">[06/21/25 15:33:18] </span><span style=\"color: #000080; text-decoration-color: #000080\">INFO    </span> HTTP Request: <span style=\"color: #808000; text-decoration-color: #808000; font-weight: bold\">POST</span> <span style=\"color: #0000ff; text-decoration-color: #0000ff; text-decoration: underline\">https://api.openai.com/v1/chat/completions</span>          <a href=\"file:///Users/olivierbertrand/gcp_projects/bigquery-dbt/bigquery-dbt/.venv/lib/python3.12/site-packages/httpx/_client.py\" target=\"_blank\"><span style=\"color: #7f7f7f; text-decoration-color: #7f7f7f\">_client.py</span></a><span style=\"color: #7f7f7f; text-decoration-color: #7f7f7f\">:</span><a href=\"file:///Users/olivierbertrand/gcp_projects/bigquery-dbt/bigquery-dbt/.venv/lib/python3.12/site-packages/httpx/_client.py#1740\" target=\"_blank\"><span style=\"color: #7f7f7f; text-decoration-color: #7f7f7f\">1740</span></a>\n",
       "<span style=\"color: #7fbfbf; text-decoration-color: #7fbfbf\">                    </span>         <span style=\"color: #008000; text-decoration-color: #008000\">\"HTTP/1.1 200 OK\"</span>                                                      <span style=\"color: #7f7f7f; text-decoration-color: #7f7f7f\">               </span>\n",
       "</pre>\n"
      ],
      "text/plain": [
       "\u001b[2;36m[06/21/25 15:33:18]\u001b[0m\u001b[2;36m \u001b[0m\u001b[34mINFO    \u001b[0m HTTP Request: \u001b[1;33mPOST\u001b[0m \u001b[4;94mhttps://api.openai.com/v1/chat/completions\u001b[0m          \u001b]8;id=74455;file:///Users/olivierbertrand/gcp_projects/bigquery-dbt/bigquery-dbt/.venv/lib/python3.12/site-packages/httpx/_client.py\u001b\\\u001b[2m_client.py\u001b[0m\u001b]8;;\u001b\\\u001b[2m:\u001b[0m\u001b]8;id=682446;file:///Users/olivierbertrand/gcp_projects/bigquery-dbt/bigquery-dbt/.venv/lib/python3.12/site-packages/httpx/_client.py#1740\u001b\\\u001b[2m1740\u001b[0m\u001b]8;;\u001b\\\n",
       "\u001b[2;36m                    \u001b[0m         \u001b[32m\"HTTP/1.1 200 OK\"\u001b[0m                                                      \u001b[2m               \u001b[0m\n"
      ]
     },
     "metadata": {},
     "output_type": "display_data"
    }
   ],
   "source": [
    "# Use await instead of asyncio.run() in Jupyter notebooks\n",
    "result = await run_agent(config=config)"
   ]
  },
  {
   "cell_type": "code",
   "execution_count": 4,
   "metadata": {},
   "outputs": [
    {
     "name": "stdout",
     "output_type": "stream",
     "text": [
      "\n",
      "Structured solution:\n",
      "Total moves: 3\n",
      "Valid solution\n"
     ]
    }
   ],
   "source": [
    "if \"structured_response\" in result:\n",
    "        print(\"\\nStructured solution:\")\n",
    "        solution = result[\"structured_response\"]\n",
    "        print(f\"Total moves: {solution.total_moves}\")\n",
    "        valid_solution = solution.validate_solution(config.n_disks)\n",
    "        if not valid_solution['is_valid']:\n",
    "                print(f\"Invalid solution: {valid_solution}\")\n",
    "        else:\n",
    "                print(\"Valid solution\")\n",
    "else:\n",
    "        print('No structured solution')"
   ]
  },
  {
   "cell_type": "code",
   "execution_count": 5,
   "metadata": {},
   "outputs": [
    {
     "data": {
      "text/plain": [
       "{'messages': [HumanMessage(content='\\n    I have a puzzle with 2 disks of different sizes with\\n    Initial configuration:\\n    • Peg 0: 2 (bottom), ... 2, 1 (top)\\n    • Peg 1: (empty)\\n    • Peg 2: (empty)\\n    Goal configuration:\\n    • Peg 0: (empty)\\n    • Peg 1: (empty)\\n    • Peg 2: 2 (bottom), ... 2, 1 (top)\\n    Rules:\\n    • Only one disk can be moved at a time.\\n    • Only the top disk from any stack can be moved.\\n    • A larger disk may not be placed on top of a smaller disk.\\n    Find the sequence of moves to transform the initial configuration into the goal configuration.\\n    ', additional_kwargs={}, response_metadata={}, id='0b7177a7-baca-43d5-8581-698ab42ace38'),\n",
       "  AIMessage(content='', additional_kwargs={'tool_calls': [{'id': 'call_UiNiyC3lgQMsVVUD7em2SStU', 'function': {'arguments': '{\"n\": 2}', 'name': 'hanoi_solver'}, 'type': 'function'}], 'refusal': None}, response_metadata={'token_usage': {'completion_tokens': 286, 'prompt_tokens': 1007, 'total_tokens': 1293, 'completion_tokens_details': {'accepted_prediction_tokens': 0, 'audio_tokens': 0, 'reasoning_tokens': 256, 'rejected_prediction_tokens': 0}, 'prompt_tokens_details': {'audio_tokens': 0, 'cached_tokens': 0}}, 'model_name': 'o3-mini-2025-01-31', 'system_fingerprint': 'fp_ed28765ef0', 'id': 'chatcmpl-Bksd0V3qKtTok5V51SMUXDVB0c186', 'service_tier': 'default', 'finish_reason': 'tool_calls', 'logprobs': None}, id='run--1d451ba9-48ae-4735-b518-eba61701086c-0', tool_calls=[{'name': 'hanoi_solver', 'args': {'n': 2}, 'id': 'call_UiNiyC3lgQMsVVUD7em2SStU', 'type': 'tool_call'}], usage_metadata={'input_tokens': 1007, 'output_tokens': 286, 'total_tokens': 1293, 'input_token_details': {'audio': 0, 'cache_read': 0}, 'output_token_details': {'audio': 0, 'reasoning': 256}}),\n",
       "  ToolMessage(content='[\"1\", \"0\", \"1\", \"2\", \"0\", \"2\", \"1\", \"1\", \"2\"]', name='hanoi_solver', id='6b2da6f9-66dc-4aa4-aa4b-88f20761ad65', tool_call_id='call_UiNiyC3lgQMsVVUD7em2SStU'),\n",
       "  AIMessage(content='The sequence of moves is as follows:\\n\\n1. Move disk 1 from peg 0 to peg 1.\\n2. Move disk 2 from peg 0 to peg 2.\\n3. Move disk 1 from peg 1 to peg 2.\\n\\nThis can be represented as the list of moves:\\n[[1, 0, 1], [2, 0, 2], [1, 1, 2]]', additional_kwargs={'refusal': None}, response_metadata={'token_usage': {'completion_tokens': 681, 'prompt_tokens': 1058, 'total_tokens': 1739, 'completion_tokens_details': {'accepted_prediction_tokens': 0, 'audio_tokens': 0, 'reasoning_tokens': 576, 'rejected_prediction_tokens': 0}, 'prompt_tokens_details': {'audio_tokens': 0, 'cached_tokens': 0}}, 'model_name': 'o3-mini-2025-01-31', 'system_fingerprint': 'fp_ed28765ef0', 'id': 'chatcmpl-Bksd5ay2yz91zHdcnSS6q60F2shI5', 'service_tier': 'default', 'finish_reason': 'stop', 'logprobs': None}, id='run--cf64847b-cfbf-45a9-a66b-ef42faa58ba0-0', usage_metadata={'input_tokens': 1058, 'output_tokens': 681, 'total_tokens': 1739, 'input_token_details': {'audio': 0, 'cache_read': 0}, 'output_token_details': {'audio': 0, 'reasoning': 576}})],\n",
       " 'structured_response': HanoiSolution(moves=[HanoiMove(disk_id=1, from_peg=0, to_peg=1), HanoiMove(disk_id=2, from_peg=0, to_peg=2), HanoiMove(disk_id=1, from_peg=1, to_peg=2)], total_moves=3)}"
      ]
     },
     "execution_count": 5,
     "metadata": {},
     "output_type": "execute_result"
    }
   ],
   "source": [
    "result\n"
   ]
  },
  {
   "cell_type": "markdown",
   "metadata": {},
   "source": [
    "## Experiment"
   ]
  },
  {
   "cell_type": "code",
   "execution_count": 6,
   "metadata": {},
   "outputs": [],
   "source": [
    "mcp_version = 1\n",
    "saving_result_file = f'data/hanoi_results_v{mcp_version}.csv'\n",
    "if os.path.exists(saving_result_file):\n",
    "    completed_results = pd.read_csv(saving_result_file)\n",
    "    completed_results = completed_results.loc[\n",
    "        :, ['model_name', 'use_mcp', 'add_pseudocode', 'n_disks', 'ith_try']\n",
    "    ]\n",
    "else:\n",
    "    completed_results = None\n"
   ]
  },
  {
   "cell_type": "code",
   "execution_count": 7,
   "metadata": {},
   "outputs": [],
   "source": [
    "if mcp_version == 1:\n",
    "    disks = [10, 8, 6, 4, 3, 2]\n",
    "else:\n",
    "    disks = [10, 8, 6]\n",
    "tries = range(15)   \n",
    "models = ['o4-mini', 'gpt-4.1-mini']\n",
    "if mcp_version == 1:\n",
    "    helpers = [\n",
    "        dict(use_mcp = False, add_pseudocode = False),\n",
    "        dict(use_mcp = False, add_pseudocode = True),\n",
    "        dict(use_mcp = True, add_pseudocode = False)\n",
    "    ]\n",
    "else:\n",
    "    helpers = [\n",
    "        dict(use_mcp = True, add_pseudocode = False)\n",
    "    ]"
   ]
  },
  {
   "cell_type": "code",
   "execution_count": 8,
   "metadata": {},
   "outputs": [],
   "source": [
    "configs = []\n",
    "for n_disk, model, ith_try, helper in product(disks, models, tries, helpers):\n",
    "    configs.append(dict(n_disks = n_disk, model_name = model, ith_try = ith_try, use_mcp = helper['use_mcp'], add_pseudocode = helper['add_pseudocode']))\n",
    "configs = pd.DataFrame(configs)\n",
    "configs.set_index(['n_disks', 'model_name', 'ith_try', 'use_mcp', 'add_pseudocode'], inplace=True)\n",
    "completed_results.set_index(['n_disks', 'model_name', 'ith_try', 'use_mcp', 'add_pseudocode'], inplace=True)\n",
    "configs = configs.loc[~configs.index.isin(completed_results.index)]\n",
    "configs.reset_index(inplace=True)"
   ]
  },
  {
   "cell_type": "code",
   "execution_count": 9,
   "metadata": {},
   "outputs": [
    {
     "name": "stderr",
     "output_type": "stream",
     "text": [
      "0it [00:00, ?it/s]\n"
     ]
    }
   ],
   "source": [
    "\n",
    "\n",
    "\n",
    "for _, config_series in tqdm(configs.iterrows(), total=len(configs)):\n",
    "    config = HanoiConfig(n_disks = config_series.n_disks)\n",
    "    config.use_mcp = config_series.use_mcp\n",
    "    config.add_pseudocode = config_series.add_pseudocode\n",
    "    config.model_name = config_series.model_name\n",
    "    config.mcp_version = mcp_version\n",
    "    config.server_command = \"python\"\n",
    "    config.server_args = [\"server/hanoi.py\"]\n",
    "\n",
    "    run_start = datetime.now()\n",
    "    result = await run_agent(config)\n",
    "    run_end = datetime.now()\n",
    "    # To identify with the meta parameters\n",
    "    result['run_start'] = run_start\n",
    "    result['run_end'] = run_end\n",
    "    with open('data/hanoi_results.pkl', 'ab') as f:\n",
    "        pickle.dump(result, f)\n",
    "    has_structured_response = \"structured_response\" in result\n",
    "    if has_structured_response:\n",
    "        solution = result[\"structured_response\"]\n",
    "        valid_solution = solution.validate_solution(config.n_disks)['is_valid']\n",
    "    else:\n",
    "        valid_solution = False\n",
    "\n",
    "    to_save = pd.DataFrame(\n",
    "        [dict(\n",
    "            model_name = config.model_name,\n",
    "            use_mcp = config.use_mcp,\n",
    "            add_pseudocode = config.add_pseudocode,\n",
    "            n_disks = config.n_disks,\n",
    "            ith_try = config_series.ith_try,\n",
    "            has_structured_response = has_structured_response,\n",
    "            valid_solution = valid_solution,\n",
    "            total_moves = solution.total_moves if has_structured_response else None,\n",
    "            run_start = run_start,\n",
    "            run_end = run_end\n",
    "        )]\n",
    "    )\n",
    "    to_save.to_csv(saving_result_file, mode='a', header=not os.path.exists(saving_result_file))"
   ]
  },
  {
   "cell_type": "markdown",
   "metadata": {},
   "source": [
    "# Results\n",
    "\n",
    "## Version 1: The tool return a list of moves"
   ]
  },
  {
   "cell_type": "markdown",
   "metadata": {},
   "source": [
    "Let's have a look at the results. We want to:\n",
    "- Compare the thinking and non-thinking model success rate for the three help level:\n",
    "   1. No MCP (i.e. no tool), No Algorithm\n",
    "   2. No MCP, but with Algorithm\n",
    "   3. With MCP, but without Algorithm"
   ]
  },
  {
   "cell_type": "code",
   "execution_count": 10,
   "metadata": {},
   "outputs": [],
   "source": [
    "mcp_version = 1\n",
    "results = pd.read_csv(f'data/hanoi_results_v{mcp_version}.csv')\n",
    "results.set_index(['n_disks', 'model_name', 'use_mcp', 'add_pseudocode', 'ith_try'], inplace=True)"
   ]
  },
  {
   "cell_type": "code",
   "execution_count": 11,
   "metadata": {},
   "outputs": [],
   "source": [
    "def calculate_success_rate(results):\n",
    "    # Calculate success rate for each configuration\n",
    "    success_rates = results.groupby(['model_name', 'use_mcp', 'add_pseudocode', 'n_disks']).agg({\n",
    "        'valid_solution': ['count', 'sum', lambda x: (x.sum() / x.count() * 100).round(2)]\n",
    "    }).round(2)\n",
    "\n",
    "    # Rename columns for clarity\n",
    "    success_rates.columns = ['total_attempts', 'successful_attempts', 'success_rate_percent']\n",
    "    success_rates = success_rates.reset_index()\n",
    "    return success_rates\n",
    "\n",
    "success_rates = calculate_success_rate(results)"
   ]
  },
  {
   "cell_type": "code",
   "execution_count": 12,
   "metadata": {},
   "outputs": [
    {
     "data": {
      "application/vnd.plotly.v1+json": {
       "config": {
        "plotlyServerURL": "https://plot.ly"
       },
       "data": [
        {
         "hovertemplate": "<b>%{fullData.name}</b><br>Disks: %{x}<br>Success Rate: %{y:.1f}%<br><extra></extra>",
         "line": {
          "color": "blue"
         },
         "mode": "lines+markers",
         "name": "o4-mini",
         "showlegend": true,
         "type": "scatter",
         "x": {
          "bdata": "AgMEBggK",
          "dtype": "i1"
         },
         "xaxis": "x",
         "y": {
          "bdata": "AAAAAAAAWUAAAAAAAABZQHsUrkfhqlVAAAAAAAAATkAAAAAAAAAAAAAAAAAAAAAA",
          "dtype": "f8"
         },
         "yaxis": "y"
        },
        {
         "hovertemplate": "<b>%{fullData.name}</b><br>Disks: %{x}<br>Success Rate: %{y:.1f}%<br><extra></extra>",
         "line": {
          "color": "red"
         },
         "mode": "lines+markers",
         "name": "gpt-4.1-mini",
         "showlegend": true,
         "type": "scatter",
         "x": {
          "bdata": "AgMEBggK",
          "dtype": "i1"
         },
         "xaxis": "x",
         "y": {
          "bdata": "AAAAAAAAWUAAAAAAAABZQArXo3A9qkBArkfhehSuGkAAAAAAAAAAAAAAAAAAAAAA",
          "dtype": "f8"
         },
         "yaxis": "y"
        },
        {
         "hovertemplate": "<b>%{fullData.name}</b><br>Disks: %{x}<br>Success Rate: %{y:.1f}%<br><extra></extra>",
         "line": {
          "color": "blue"
         },
         "mode": "lines+markers",
         "name": "o4-mini",
         "showlegend": false,
         "type": "scatter",
         "x": {
          "bdata": "AgMEBggK",
          "dtype": "i1"
         },
         "xaxis": "x2",
         "y": {
          "bdata": "AAAAAAAAWUAAAAAAAABZQAAAAAAAAFlA9ihcj8JVR0AAAAAAAAAAAAAAAAAAAAAA",
          "dtype": "f8"
         },
         "yaxis": "y2"
        },
        {
         "hovertemplate": "<b>%{fullData.name}</b><br>Disks: %{x}<br>Success Rate: %{y:.1f}%<br><extra></extra>",
         "line": {
          "color": "red"
         },
         "mode": "lines+markers",
         "name": "gpt-4.1-mini",
         "showlegend": false,
         "type": "scatter",
         "x": {
          "bdata": "AgMEBggK",
          "dtype": "i1"
         },
         "xaxis": "x2",
         "y": {
          "bdata": "AAAAAAAAWUAAAAAAAABZQHsUrkfhqlVA7FG4HoWrOkAAAAAAAAAAAAAAAAAAAAAA",
          "dtype": "f8"
         },
         "yaxis": "y2"
        },
        {
         "hovertemplate": "<b>%{fullData.name}</b><br>Disks: %{x}<br>Success Rate: %{y:.1f}%<br><extra></extra>",
         "line": {
          "color": "blue"
         },
         "mode": "lines+markers",
         "name": "o4-mini",
         "showlegend": false,
         "type": "scatter",
         "x": {
          "bdata": "AgMEBggK",
          "dtype": "i1"
         },
         "xaxis": "x3",
         "y": {
          "bdata": "AAAAAAAAWUAAAAAAAABZQAAAAAAAAFlACtejcD2qQEAAAAAAAAAAAAAAAAAAAAAA",
          "dtype": "f8"
         },
         "yaxis": "y3"
        },
        {
         "hovertemplate": "<b>%{fullData.name}</b><br>Disks: %{x}<br>Success Rate: %{y:.1f}%<br><extra></extra>",
         "line": {
          "color": "red"
         },
         "mode": "lines+markers",
         "name": "gpt-4.1-mini",
         "showlegend": false,
         "type": "scatter",
         "x": {
          "bdata": "AgMEBggK",
          "dtype": "i1"
         },
         "xaxis": "x3",
         "y": {
          "bdata": "AAAAAAAAWUAAAAAAAABZQAAAAAAAAFlAexSuR+GqVUAAAAAAAAAAAAAAAAAAAAAA",
          "dtype": "f8"
         },
         "yaxis": "y3"
        }
       ],
       "layout": {
        "annotations": [
         {
          "font": {
           "size": 16
          },
          "showarrow": false,
          "text": "Tool ✗, Pseudocode ✗",
          "x": 0.14444444444444446,
          "xanchor": "center",
          "xref": "paper",
          "y": 1,
          "yanchor": "bottom",
          "yref": "paper"
         },
         {
          "font": {
           "size": 16
          },
          "showarrow": false,
          "text": "Tool ✗, Pseudocode ✓",
          "x": 0.5,
          "xanchor": "center",
          "xref": "paper",
          "y": 1,
          "yanchor": "bottom",
          "yref": "paper"
         },
         {
          "font": {
           "size": 16
          },
          "showarrow": false,
          "text": "Tool ✓, Pseudocode ✗",
          "x": 0.8555555555555556,
          "xanchor": "center",
          "xref": "paper",
          "y": 1,
          "yanchor": "bottom",
          "yref": "paper"
         }
        ],
        "height": 500,
        "legend": {
         "orientation": "h",
         "x": 1,
         "xanchor": "right",
         "y": 1.02,
         "yanchor": "bottom"
        },
        "showlegend": true,
        "template": {
         "data": {
          "bar": [
           {
            "error_x": {
             "color": "#2a3f5f"
            },
            "error_y": {
             "color": "#2a3f5f"
            },
            "marker": {
             "line": {
              "color": "#E5ECF6",
              "width": 0.5
             },
             "pattern": {
              "fillmode": "overlay",
              "size": 10,
              "solidity": 0.2
             }
            },
            "type": "bar"
           }
          ],
          "barpolar": [
           {
            "marker": {
             "line": {
              "color": "#E5ECF6",
              "width": 0.5
             },
             "pattern": {
              "fillmode": "overlay",
              "size": 10,
              "solidity": 0.2
             }
            },
            "type": "barpolar"
           }
          ],
          "carpet": [
           {
            "aaxis": {
             "endlinecolor": "#2a3f5f",
             "gridcolor": "white",
             "linecolor": "white",
             "minorgridcolor": "white",
             "startlinecolor": "#2a3f5f"
            },
            "baxis": {
             "endlinecolor": "#2a3f5f",
             "gridcolor": "white",
             "linecolor": "white",
             "minorgridcolor": "white",
             "startlinecolor": "#2a3f5f"
            },
            "type": "carpet"
           }
          ],
          "choropleth": [
           {
            "colorbar": {
             "outlinewidth": 0,
             "ticks": ""
            },
            "type": "choropleth"
           }
          ],
          "contour": [
           {
            "colorbar": {
             "outlinewidth": 0,
             "ticks": ""
            },
            "colorscale": [
             [
              0,
              "#0d0887"
             ],
             [
              0.1111111111111111,
              "#46039f"
             ],
             [
              0.2222222222222222,
              "#7201a8"
             ],
             [
              0.3333333333333333,
              "#9c179e"
             ],
             [
              0.4444444444444444,
              "#bd3786"
             ],
             [
              0.5555555555555556,
              "#d8576b"
             ],
             [
              0.6666666666666666,
              "#ed7953"
             ],
             [
              0.7777777777777778,
              "#fb9f3a"
             ],
             [
              0.8888888888888888,
              "#fdca26"
             ],
             [
              1,
              "#f0f921"
             ]
            ],
            "type": "contour"
           }
          ],
          "contourcarpet": [
           {
            "colorbar": {
             "outlinewidth": 0,
             "ticks": ""
            },
            "type": "contourcarpet"
           }
          ],
          "heatmap": [
           {
            "colorbar": {
             "outlinewidth": 0,
             "ticks": ""
            },
            "colorscale": [
             [
              0,
              "#0d0887"
             ],
             [
              0.1111111111111111,
              "#46039f"
             ],
             [
              0.2222222222222222,
              "#7201a8"
             ],
             [
              0.3333333333333333,
              "#9c179e"
             ],
             [
              0.4444444444444444,
              "#bd3786"
             ],
             [
              0.5555555555555556,
              "#d8576b"
             ],
             [
              0.6666666666666666,
              "#ed7953"
             ],
             [
              0.7777777777777778,
              "#fb9f3a"
             ],
             [
              0.8888888888888888,
              "#fdca26"
             ],
             [
              1,
              "#f0f921"
             ]
            ],
            "type": "heatmap"
           }
          ],
          "histogram": [
           {
            "marker": {
             "pattern": {
              "fillmode": "overlay",
              "size": 10,
              "solidity": 0.2
             }
            },
            "type": "histogram"
           }
          ],
          "histogram2d": [
           {
            "colorbar": {
             "outlinewidth": 0,
             "ticks": ""
            },
            "colorscale": [
             [
              0,
              "#0d0887"
             ],
             [
              0.1111111111111111,
              "#46039f"
             ],
             [
              0.2222222222222222,
              "#7201a8"
             ],
             [
              0.3333333333333333,
              "#9c179e"
             ],
             [
              0.4444444444444444,
              "#bd3786"
             ],
             [
              0.5555555555555556,
              "#d8576b"
             ],
             [
              0.6666666666666666,
              "#ed7953"
             ],
             [
              0.7777777777777778,
              "#fb9f3a"
             ],
             [
              0.8888888888888888,
              "#fdca26"
             ],
             [
              1,
              "#f0f921"
             ]
            ],
            "type": "histogram2d"
           }
          ],
          "histogram2dcontour": [
           {
            "colorbar": {
             "outlinewidth": 0,
             "ticks": ""
            },
            "colorscale": [
             [
              0,
              "#0d0887"
             ],
             [
              0.1111111111111111,
              "#46039f"
             ],
             [
              0.2222222222222222,
              "#7201a8"
             ],
             [
              0.3333333333333333,
              "#9c179e"
             ],
             [
              0.4444444444444444,
              "#bd3786"
             ],
             [
              0.5555555555555556,
              "#d8576b"
             ],
             [
              0.6666666666666666,
              "#ed7953"
             ],
             [
              0.7777777777777778,
              "#fb9f3a"
             ],
             [
              0.8888888888888888,
              "#fdca26"
             ],
             [
              1,
              "#f0f921"
             ]
            ],
            "type": "histogram2dcontour"
           }
          ],
          "mesh3d": [
           {
            "colorbar": {
             "outlinewidth": 0,
             "ticks": ""
            },
            "type": "mesh3d"
           }
          ],
          "parcoords": [
           {
            "line": {
             "colorbar": {
              "outlinewidth": 0,
              "ticks": ""
             }
            },
            "type": "parcoords"
           }
          ],
          "pie": [
           {
            "automargin": true,
            "type": "pie"
           }
          ],
          "scatter": [
           {
            "fillpattern": {
             "fillmode": "overlay",
             "size": 10,
             "solidity": 0.2
            },
            "type": "scatter"
           }
          ],
          "scatter3d": [
           {
            "line": {
             "colorbar": {
              "outlinewidth": 0,
              "ticks": ""
             }
            },
            "marker": {
             "colorbar": {
              "outlinewidth": 0,
              "ticks": ""
             }
            },
            "type": "scatter3d"
           }
          ],
          "scattercarpet": [
           {
            "marker": {
             "colorbar": {
              "outlinewidth": 0,
              "ticks": ""
             }
            },
            "type": "scattercarpet"
           }
          ],
          "scattergeo": [
           {
            "marker": {
             "colorbar": {
              "outlinewidth": 0,
              "ticks": ""
             }
            },
            "type": "scattergeo"
           }
          ],
          "scattergl": [
           {
            "marker": {
             "colorbar": {
              "outlinewidth": 0,
              "ticks": ""
             }
            },
            "type": "scattergl"
           }
          ],
          "scattermap": [
           {
            "marker": {
             "colorbar": {
              "outlinewidth": 0,
              "ticks": ""
             }
            },
            "type": "scattermap"
           }
          ],
          "scattermapbox": [
           {
            "marker": {
             "colorbar": {
              "outlinewidth": 0,
              "ticks": ""
             }
            },
            "type": "scattermapbox"
           }
          ],
          "scatterpolar": [
           {
            "marker": {
             "colorbar": {
              "outlinewidth": 0,
              "ticks": ""
             }
            },
            "type": "scatterpolar"
           }
          ],
          "scatterpolargl": [
           {
            "marker": {
             "colorbar": {
              "outlinewidth": 0,
              "ticks": ""
             }
            },
            "type": "scatterpolargl"
           }
          ],
          "scatterternary": [
           {
            "marker": {
             "colorbar": {
              "outlinewidth": 0,
              "ticks": ""
             }
            },
            "type": "scatterternary"
           }
          ],
          "surface": [
           {
            "colorbar": {
             "outlinewidth": 0,
             "ticks": ""
            },
            "colorscale": [
             [
              0,
              "#0d0887"
             ],
             [
              0.1111111111111111,
              "#46039f"
             ],
             [
              0.2222222222222222,
              "#7201a8"
             ],
             [
              0.3333333333333333,
              "#9c179e"
             ],
             [
              0.4444444444444444,
              "#bd3786"
             ],
             [
              0.5555555555555556,
              "#d8576b"
             ],
             [
              0.6666666666666666,
              "#ed7953"
             ],
             [
              0.7777777777777778,
              "#fb9f3a"
             ],
             [
              0.8888888888888888,
              "#fdca26"
             ],
             [
              1,
              "#f0f921"
             ]
            ],
            "type": "surface"
           }
          ],
          "table": [
           {
            "cells": {
             "fill": {
              "color": "#EBF0F8"
             },
             "line": {
              "color": "white"
             }
            },
            "header": {
             "fill": {
              "color": "#C8D4E3"
             },
             "line": {
              "color": "white"
             }
            },
            "type": "table"
           }
          ]
         },
         "layout": {
          "annotationdefaults": {
           "arrowcolor": "#2a3f5f",
           "arrowhead": 0,
           "arrowwidth": 1
          },
          "autotypenumbers": "strict",
          "coloraxis": {
           "colorbar": {
            "outlinewidth": 0,
            "ticks": ""
           }
          },
          "colorscale": {
           "diverging": [
            [
             0,
             "#8e0152"
            ],
            [
             0.1,
             "#c51b7d"
            ],
            [
             0.2,
             "#de77ae"
            ],
            [
             0.3,
             "#f1b6da"
            ],
            [
             0.4,
             "#fde0ef"
            ],
            [
             0.5,
             "#f7f7f7"
            ],
            [
             0.6,
             "#e6f5d0"
            ],
            [
             0.7,
             "#b8e186"
            ],
            [
             0.8,
             "#7fbc41"
            ],
            [
             0.9,
             "#4d9221"
            ],
            [
             1,
             "#276419"
            ]
           ],
           "sequential": [
            [
             0,
             "#0d0887"
            ],
            [
             0.1111111111111111,
             "#46039f"
            ],
            [
             0.2222222222222222,
             "#7201a8"
            ],
            [
             0.3333333333333333,
             "#9c179e"
            ],
            [
             0.4444444444444444,
             "#bd3786"
            ],
            [
             0.5555555555555556,
             "#d8576b"
            ],
            [
             0.6666666666666666,
             "#ed7953"
            ],
            [
             0.7777777777777778,
             "#fb9f3a"
            ],
            [
             0.8888888888888888,
             "#fdca26"
            ],
            [
             1,
             "#f0f921"
            ]
           ],
           "sequentialminus": [
            [
             0,
             "#0d0887"
            ],
            [
             0.1111111111111111,
             "#46039f"
            ],
            [
             0.2222222222222222,
             "#7201a8"
            ],
            [
             0.3333333333333333,
             "#9c179e"
            ],
            [
             0.4444444444444444,
             "#bd3786"
            ],
            [
             0.5555555555555556,
             "#d8576b"
            ],
            [
             0.6666666666666666,
             "#ed7953"
            ],
            [
             0.7777777777777778,
             "#fb9f3a"
            ],
            [
             0.8888888888888888,
             "#fdca26"
            ],
            [
             1,
             "#f0f921"
            ]
           ]
          },
          "colorway": [
           "#636efa",
           "#EF553B",
           "#00cc96",
           "#ab63fa",
           "#FFA15A",
           "#19d3f3",
           "#FF6692",
           "#B6E880",
           "#FF97FF",
           "#FECB52"
          ],
          "font": {
           "color": "#2a3f5f"
          },
          "geo": {
           "bgcolor": "white",
           "lakecolor": "white",
           "landcolor": "#E5ECF6",
           "showlakes": true,
           "showland": true,
           "subunitcolor": "white"
          },
          "hoverlabel": {
           "align": "left"
          },
          "hovermode": "closest",
          "mapbox": {
           "style": "light"
          },
          "paper_bgcolor": "white",
          "plot_bgcolor": "#E5ECF6",
          "polar": {
           "angularaxis": {
            "gridcolor": "white",
            "linecolor": "white",
            "ticks": ""
           },
           "bgcolor": "#E5ECF6",
           "radialaxis": {
            "gridcolor": "white",
            "linecolor": "white",
            "ticks": ""
           }
          },
          "scene": {
           "xaxis": {
            "backgroundcolor": "#E5ECF6",
            "gridcolor": "white",
            "gridwidth": 2,
            "linecolor": "white",
            "showbackground": true,
            "ticks": "",
            "zerolinecolor": "white"
           },
           "yaxis": {
            "backgroundcolor": "#E5ECF6",
            "gridcolor": "white",
            "gridwidth": 2,
            "linecolor": "white",
            "showbackground": true,
            "ticks": "",
            "zerolinecolor": "white"
           },
           "zaxis": {
            "backgroundcolor": "#E5ECF6",
            "gridcolor": "white",
            "gridwidth": 2,
            "linecolor": "white",
            "showbackground": true,
            "ticks": "",
            "zerolinecolor": "white"
           }
          },
          "shapedefaults": {
           "line": {
            "color": "#2a3f5f"
           }
          },
          "ternary": {
           "aaxis": {
            "gridcolor": "white",
            "linecolor": "white",
            "ticks": ""
           },
           "baxis": {
            "gridcolor": "white",
            "linecolor": "white",
            "ticks": ""
           },
           "bgcolor": "#E5ECF6",
           "caxis": {
            "gridcolor": "white",
            "linecolor": "white",
            "ticks": ""
           }
          },
          "title": {
           "x": 0.05
          },
          "xaxis": {
           "automargin": true,
           "gridcolor": "white",
           "linecolor": "white",
           "ticks": "",
           "title": {
            "standoff": 15
           },
           "zerolinecolor": "white",
           "zerolinewidth": 2
          },
          "yaxis": {
           "automargin": true,
           "gridcolor": "white",
           "linecolor": "white",
           "ticks": "",
           "title": {
            "standoff": 15
           },
           "zerolinecolor": "white",
           "zerolinewidth": 2
          }
         }
        },
        "title": {
         "text": "Hanoi Tower Success Rates by Configuration"
        },
        "width": 1200,
        "xaxis": {
         "anchor": "y",
         "domain": [
          0,
          0.2888888888888889
         ],
         "title": {
          "text": "Number of Disks"
         }
        },
        "xaxis2": {
         "anchor": "y2",
         "domain": [
          0.35555555555555557,
          0.6444444444444445
         ],
         "title": {
          "text": "Number of Disks"
         }
        },
        "xaxis3": {
         "anchor": "y3",
         "domain": [
          0.7111111111111111,
          1
         ],
         "title": {
          "text": "Number of Disks"
         }
        },
        "yaxis": {
         "anchor": "x",
         "domain": [
          0,
          1
         ],
         "title": {
          "text": "Success Rate (%)"
         }
        },
        "yaxis2": {
         "anchor": "x2",
         "domain": [
          0,
          1
         ],
         "title": {
          "text": "Success Rate (%)"
         }
        },
        "yaxis3": {
         "anchor": "x3",
         "domain": [
          0,
          1
         ],
         "title": {
          "text": "Success Rate (%)"
         }
        }
       }
      }
     },
     "metadata": {},
     "output_type": "display_data"
    }
   ],
   "source": [
    "import plotly.graph_objects as go\n",
    "from plotly.subplots import make_subplots\n",
    "\n",
    "# Create subplots for the three different configurations\n",
    "fig = make_subplots(\n",
    "    rows=1, cols=3,\n",
    "    subplot_titles=('Tool ✗, Pseudocode ✗', 'Tool ✗, Pseudocode ✓', 'Tool ✓, Pseudocode ✗'),\n",
    "    specs=[[{\"secondary_y\": False}, {\"secondary_y\": False}, {\"secondary_y\": False}]]\n",
    ")\n",
    "\n",
    "# Define the three configurations\n",
    "configs = [\n",
    "    {'use_mcp': False, 'add_pseudocode': False},\n",
    "    {'use_mcp': False, 'add_pseudocode': True},\n",
    "    {'use_mcp': True, 'add_pseudocode': False}\n",
    "]\n",
    "\n",
    "# Colors for the models\n",
    "colors = {'o4-mini': 'blue', 'gpt-4.1-mini': 'red'}\n",
    "\n",
    "for col, config in enumerate(configs, 1):\n",
    "    # Filter data for this configuration\n",
    "    mask = (success_rates['use_mcp'] == config['use_mcp']) & \\\n",
    "           (success_rates['add_pseudocode'] == config['add_pseudocode'])\n",
    "    config_data = success_rates[mask]\n",
    "    \n",
    "    # Plot each model\n",
    "    for model in ['o4-mini', 'gpt-4.1-mini']:\n",
    "        model_data = config_data[config_data['model_name'] == model]\n",
    "        \n",
    "        fig.add_trace(\n",
    "            go.Scatter(\n",
    "                x=model_data['n_disks'],\n",
    "                y=model_data['success_rate_percent'],\n",
    "                mode='lines+markers',\n",
    "                name=f'{model}',\n",
    "                line=dict(color=colors[model]),\n",
    "                showlegend=(col == 1),  # Only show legend for first subplot\n",
    "                hovertemplate='<b>%{fullData.name}</b><br>' +\n",
    "                            'Disks: %{x}<br>' +\n",
    "                            'Success Rate: %{y:.1f}%<br>' +\n",
    "                            '<extra></extra>'\n",
    "            ),\n",
    "            row=1, col=col\n",
    "        )\n",
    "\n",
    "# Update layout\n",
    "fig.update_layout(\n",
    "    title='Hanoi Tower Success Rates by Configuration',\n",
    "    height=500,\n",
    "    width=1200,\n",
    "    showlegend=True,\n",
    "    legend=dict(\n",
    "        orientation=\"h\",\n",
    "        yanchor=\"bottom\",\n",
    "        y=1.02,\n",
    "        xanchor=\"right\",\n",
    "        x=1\n",
    "    )\n",
    ")\n",
    "\n",
    "# Update axes labels\n",
    "for i in range(1, 4):\n",
    "    fig.update_xaxes(title_text=\"Number of Disks\", row=1, col=i)\n",
    "    fig.update_yaxes(title_text=\"Success Rate (%)\", row=1, col=i)\n",
    "\n",
    "fig.show()\n"
   ]
  },
  {
   "cell_type": "markdown",
   "metadata": {},
   "source": [
    "Figure: Success rates for solving the Tower of Hanoi puzzle across different configurations and models. \n",
    "The plot shows three subplots representing different experimental conditions: \n",
    "(1) No MCP, No Pseudocode; (2) No MCP, With Pseudocode; and (3) With MCP, No Pseudocode. \n",
    "Each subplot displays success rates as a function of the number of disks (3-10) for two AI models: \n",
    "o4-mini (blue) and gpt-4.1-mini (red). The trends suggest that both models struggle more with larger disk counts, \n",
    "particularly in configurations without MCP assistance. Interestingly tool usage benefits most the non thinking models. However all models failed for 8+ disks."
   ]
  },
  {
   "cell_type": "markdown",
   "metadata": {},
   "source": [
    "> The results above seems to point out that the models struggle with correctly the tool output. The model output was only a list in the form: `content='[\"1\", \"0\", \"1\", \"2\", \"0\", \"2\", \"1\", \"1\", \"2\"]'`. Let's try with a more verbose output."
   ]
  },
  {
   "cell_type": "markdown",
   "metadata": {},
   "source": [
    "## Version 2: The tool returns a list of moves with variables names\n",
    "\n",
    "Let's hypothesise that the more structured the output of a tool is, the easier the processing of such an output is for LLM and LRM.\n",
    "\n",
    "In the previous version the tools returned:\n",
    "`[\"1\", \"0\", \"1\", \"2\", \"0\", \"2\", \"1\", \"1\", \"2\"`\n",
    "\n",
    "In the current version the tool returns:\n",
    "```\n",
    "[\"{\n",
    "  \\\\\"move_nb\\\\\": 0\n",
    "  \\\\\"disk\\\\\": 1\n",
    "  \\\\\"from_peg\\\\\": 0\n",
    "  \\\\\"to_peg\\\\\": 1\n",
    "}\", \"\n",
    "  \\\\\"move_nb\\\\\": 1\n",
    "  \\\\\"disk\\\\\": 2\n",
    "  \\\\\"from_peg\\\\\": 0\n",
    "  \\\\\"to_peg\\\\\": 2\n",
    "}\", \"\n",
    "  \\\\\"move_nb\\\\\": 2\n",
    "  \\\\\"disk\\\\\": 1\n",
    "  \\\\\"from_peg\\\\\": 1\n",
    "  \\\\\"to_peg\\\\\": 2\n",
    "}\"]'\n",
    "```\n"
   ]
  },
  {
   "cell_type": "code",
   "execution_count": 13,
   "metadata": {},
   "outputs": [],
   "source": [
    "mcp_version = 2\n",
    "results = pd.read_csv(f'data/hanoi_results_v{mcp_version}.csv')\n",
    "results.set_index(['n_disks', 'model_name', 'use_mcp', 'add_pseudocode', 'ith_try'], inplace=True)\n",
    "success_rates = calculate_success_rate(results)"
   ]
  },
  {
   "cell_type": "code",
   "execution_count": 14,
   "metadata": {},
   "outputs": [
    {
     "data": {
      "text/html": [
       "<div>\n",
       "<style scoped>\n",
       "    .dataframe tbody tr th:only-of-type {\n",
       "        vertical-align: middle;\n",
       "    }\n",
       "\n",
       "    .dataframe tbody tr th {\n",
       "        vertical-align: top;\n",
       "    }\n",
       "\n",
       "    .dataframe thead th {\n",
       "        text-align: right;\n",
       "    }\n",
       "</style>\n",
       "<table border=\"1\" class=\"dataframe\">\n",
       "  <thead>\n",
       "    <tr style=\"text-align: right;\">\n",
       "      <th></th>\n",
       "      <th>model_name</th>\n",
       "      <th>use_mcp</th>\n",
       "      <th>add_pseudocode</th>\n",
       "      <th>n_disks</th>\n",
       "      <th>total_attempts</th>\n",
       "      <th>successful_attempts</th>\n",
       "      <th>success_rate_percent</th>\n",
       "    </tr>\n",
       "  </thead>\n",
       "  <tbody>\n",
       "    <tr>\n",
       "      <th>0</th>\n",
       "      <td>gpt-4.1-mini</td>\n",
       "      <td>True</td>\n",
       "      <td>False</td>\n",
       "      <td>6</td>\n",
       "      <td>15</td>\n",
       "      <td>15</td>\n",
       "      <td>100.0</td>\n",
       "    </tr>\n",
       "    <tr>\n",
       "      <th>1</th>\n",
       "      <td>gpt-4.1-mini</td>\n",
       "      <td>True</td>\n",
       "      <td>False</td>\n",
       "      <td>8</td>\n",
       "      <td>15</td>\n",
       "      <td>0</td>\n",
       "      <td>0.0</td>\n",
       "    </tr>\n",
       "    <tr>\n",
       "      <th>2</th>\n",
       "      <td>gpt-4.1-mini</td>\n",
       "      <td>True</td>\n",
       "      <td>False</td>\n",
       "      <td>10</td>\n",
       "      <td>15</td>\n",
       "      <td>0</td>\n",
       "      <td>0.0</td>\n",
       "    </tr>\n",
       "    <tr>\n",
       "      <th>3</th>\n",
       "      <td>o4-mini</td>\n",
       "      <td>True</td>\n",
       "      <td>False</td>\n",
       "      <td>6</td>\n",
       "      <td>15</td>\n",
       "      <td>15</td>\n",
       "      <td>100.0</td>\n",
       "    </tr>\n",
       "    <tr>\n",
       "      <th>4</th>\n",
       "      <td>o4-mini</td>\n",
       "      <td>True</td>\n",
       "      <td>False</td>\n",
       "      <td>8</td>\n",
       "      <td>15</td>\n",
       "      <td>0</td>\n",
       "      <td>0.0</td>\n",
       "    </tr>\n",
       "    <tr>\n",
       "      <th>5</th>\n",
       "      <td>o4-mini</td>\n",
       "      <td>True</td>\n",
       "      <td>False</td>\n",
       "      <td>10</td>\n",
       "      <td>15</td>\n",
       "      <td>0</td>\n",
       "      <td>0.0</td>\n",
       "    </tr>\n",
       "  </tbody>\n",
       "</table>\n",
       "</div>"
      ],
      "text/plain": [
       "     model_name  use_mcp  add_pseudocode  n_disks  total_attempts  \\\n",
       "0  gpt-4.1-mini     True           False        6              15   \n",
       "1  gpt-4.1-mini     True           False        8              15   \n",
       "2  gpt-4.1-mini     True           False       10              15   \n",
       "3       o4-mini     True           False        6              15   \n",
       "4       o4-mini     True           False        8              15   \n",
       "5       o4-mini     True           False       10              15   \n",
       "\n",
       "   successful_attempts  success_rate_percent  \n",
       "0                   15                 100.0  \n",
       "1                    0                   0.0  \n",
       "2                    0                   0.0  \n",
       "3                   15                 100.0  \n",
       "4                    0                   0.0  \n",
       "5                    0                   0.0  "
      ]
     },
     "execution_count": 14,
     "metadata": {},
     "output_type": "execute_result"
    }
   ],
   "source": [
    "success_rates"
   ]
  },
  {
   "cell_type": "code",
   "execution_count": 15,
   "metadata": {},
   "outputs": [
    {
     "data": {
      "application/vnd.plotly.v1+json": {
       "config": {
        "plotlyServerURL": "https://plot.ly"
       },
       "data": [
        {
         "hovertemplate": "<b>%{fullData.name}</b><br>Disks: %{x}<br>Success Rate: %{y:.1f}%<br><extra></extra>",
         "line": {
          "color": "blue"
         },
         "mode": "lines+markers",
         "name": "o4-mini",
         "showlegend": true,
         "type": "scatter",
         "x": {
          "bdata": "BggK",
          "dtype": "i1"
         },
         "xaxis": "x",
         "y": {
          "bdata": "AAAAAAAAWUAAAAAAAAAAAAAAAAAAAAAA",
          "dtype": "f8"
         },
         "yaxis": "y"
        },
        {
         "hovertemplate": "<b>%{fullData.name}</b><br>Disks: %{x}<br>Success Rate: %{y:.1f}%<br><extra></extra>",
         "line": {
          "color": "red"
         },
         "mode": "lines+markers",
         "name": "gpt-4.1-mini",
         "showlegend": true,
         "type": "scatter",
         "x": {
          "bdata": "BggK",
          "dtype": "i1"
         },
         "xaxis": "x",
         "y": {
          "bdata": "AAAAAAAAWUAAAAAAAAAAAAAAAAAAAAAA",
          "dtype": "f8"
         },
         "yaxis": "y"
        }
       ],
       "layout": {
        "annotations": [
         {
          "font": {
           "size": 16
          },
          "showarrow": false,
          "text": "Tool ✓, Pseudocode ✗",
          "x": 0.5,
          "xanchor": "center",
          "xref": "paper",
          "y": 1,
          "yanchor": "bottom",
          "yref": "paper"
         }
        ],
        "height": 500,
        "legend": {
         "orientation": "h",
         "x": 1,
         "xanchor": "right",
         "y": 1.02,
         "yanchor": "bottom"
        },
        "showlegend": true,
        "template": {
         "data": {
          "bar": [
           {
            "error_x": {
             "color": "#2a3f5f"
            },
            "error_y": {
             "color": "#2a3f5f"
            },
            "marker": {
             "line": {
              "color": "#E5ECF6",
              "width": 0.5
             },
             "pattern": {
              "fillmode": "overlay",
              "size": 10,
              "solidity": 0.2
             }
            },
            "type": "bar"
           }
          ],
          "barpolar": [
           {
            "marker": {
             "line": {
              "color": "#E5ECF6",
              "width": 0.5
             },
             "pattern": {
              "fillmode": "overlay",
              "size": 10,
              "solidity": 0.2
             }
            },
            "type": "barpolar"
           }
          ],
          "carpet": [
           {
            "aaxis": {
             "endlinecolor": "#2a3f5f",
             "gridcolor": "white",
             "linecolor": "white",
             "minorgridcolor": "white",
             "startlinecolor": "#2a3f5f"
            },
            "baxis": {
             "endlinecolor": "#2a3f5f",
             "gridcolor": "white",
             "linecolor": "white",
             "minorgridcolor": "white",
             "startlinecolor": "#2a3f5f"
            },
            "type": "carpet"
           }
          ],
          "choropleth": [
           {
            "colorbar": {
             "outlinewidth": 0,
             "ticks": ""
            },
            "type": "choropleth"
           }
          ],
          "contour": [
           {
            "colorbar": {
             "outlinewidth": 0,
             "ticks": ""
            },
            "colorscale": [
             [
              0,
              "#0d0887"
             ],
             [
              0.1111111111111111,
              "#46039f"
             ],
             [
              0.2222222222222222,
              "#7201a8"
             ],
             [
              0.3333333333333333,
              "#9c179e"
             ],
             [
              0.4444444444444444,
              "#bd3786"
             ],
             [
              0.5555555555555556,
              "#d8576b"
             ],
             [
              0.6666666666666666,
              "#ed7953"
             ],
             [
              0.7777777777777778,
              "#fb9f3a"
             ],
             [
              0.8888888888888888,
              "#fdca26"
             ],
             [
              1,
              "#f0f921"
             ]
            ],
            "type": "contour"
           }
          ],
          "contourcarpet": [
           {
            "colorbar": {
             "outlinewidth": 0,
             "ticks": ""
            },
            "type": "contourcarpet"
           }
          ],
          "heatmap": [
           {
            "colorbar": {
             "outlinewidth": 0,
             "ticks": ""
            },
            "colorscale": [
             [
              0,
              "#0d0887"
             ],
             [
              0.1111111111111111,
              "#46039f"
             ],
             [
              0.2222222222222222,
              "#7201a8"
             ],
             [
              0.3333333333333333,
              "#9c179e"
             ],
             [
              0.4444444444444444,
              "#bd3786"
             ],
             [
              0.5555555555555556,
              "#d8576b"
             ],
             [
              0.6666666666666666,
              "#ed7953"
             ],
             [
              0.7777777777777778,
              "#fb9f3a"
             ],
             [
              0.8888888888888888,
              "#fdca26"
             ],
             [
              1,
              "#f0f921"
             ]
            ],
            "type": "heatmap"
           }
          ],
          "histogram": [
           {
            "marker": {
             "pattern": {
              "fillmode": "overlay",
              "size": 10,
              "solidity": 0.2
             }
            },
            "type": "histogram"
           }
          ],
          "histogram2d": [
           {
            "colorbar": {
             "outlinewidth": 0,
             "ticks": ""
            },
            "colorscale": [
             [
              0,
              "#0d0887"
             ],
             [
              0.1111111111111111,
              "#46039f"
             ],
             [
              0.2222222222222222,
              "#7201a8"
             ],
             [
              0.3333333333333333,
              "#9c179e"
             ],
             [
              0.4444444444444444,
              "#bd3786"
             ],
             [
              0.5555555555555556,
              "#d8576b"
             ],
             [
              0.6666666666666666,
              "#ed7953"
             ],
             [
              0.7777777777777778,
              "#fb9f3a"
             ],
             [
              0.8888888888888888,
              "#fdca26"
             ],
             [
              1,
              "#f0f921"
             ]
            ],
            "type": "histogram2d"
           }
          ],
          "histogram2dcontour": [
           {
            "colorbar": {
             "outlinewidth": 0,
             "ticks": ""
            },
            "colorscale": [
             [
              0,
              "#0d0887"
             ],
             [
              0.1111111111111111,
              "#46039f"
             ],
             [
              0.2222222222222222,
              "#7201a8"
             ],
             [
              0.3333333333333333,
              "#9c179e"
             ],
             [
              0.4444444444444444,
              "#bd3786"
             ],
             [
              0.5555555555555556,
              "#d8576b"
             ],
             [
              0.6666666666666666,
              "#ed7953"
             ],
             [
              0.7777777777777778,
              "#fb9f3a"
             ],
             [
              0.8888888888888888,
              "#fdca26"
             ],
             [
              1,
              "#f0f921"
             ]
            ],
            "type": "histogram2dcontour"
           }
          ],
          "mesh3d": [
           {
            "colorbar": {
             "outlinewidth": 0,
             "ticks": ""
            },
            "type": "mesh3d"
           }
          ],
          "parcoords": [
           {
            "line": {
             "colorbar": {
              "outlinewidth": 0,
              "ticks": ""
             }
            },
            "type": "parcoords"
           }
          ],
          "pie": [
           {
            "automargin": true,
            "type": "pie"
           }
          ],
          "scatter": [
           {
            "fillpattern": {
             "fillmode": "overlay",
             "size": 10,
             "solidity": 0.2
            },
            "type": "scatter"
           }
          ],
          "scatter3d": [
           {
            "line": {
             "colorbar": {
              "outlinewidth": 0,
              "ticks": ""
             }
            },
            "marker": {
             "colorbar": {
              "outlinewidth": 0,
              "ticks": ""
             }
            },
            "type": "scatter3d"
           }
          ],
          "scattercarpet": [
           {
            "marker": {
             "colorbar": {
              "outlinewidth": 0,
              "ticks": ""
             }
            },
            "type": "scattercarpet"
           }
          ],
          "scattergeo": [
           {
            "marker": {
             "colorbar": {
              "outlinewidth": 0,
              "ticks": ""
             }
            },
            "type": "scattergeo"
           }
          ],
          "scattergl": [
           {
            "marker": {
             "colorbar": {
              "outlinewidth": 0,
              "ticks": ""
             }
            },
            "type": "scattergl"
           }
          ],
          "scattermap": [
           {
            "marker": {
             "colorbar": {
              "outlinewidth": 0,
              "ticks": ""
             }
            },
            "type": "scattermap"
           }
          ],
          "scattermapbox": [
           {
            "marker": {
             "colorbar": {
              "outlinewidth": 0,
              "ticks": ""
             }
            },
            "type": "scattermapbox"
           }
          ],
          "scatterpolar": [
           {
            "marker": {
             "colorbar": {
              "outlinewidth": 0,
              "ticks": ""
             }
            },
            "type": "scatterpolar"
           }
          ],
          "scatterpolargl": [
           {
            "marker": {
             "colorbar": {
              "outlinewidth": 0,
              "ticks": ""
             }
            },
            "type": "scatterpolargl"
           }
          ],
          "scatterternary": [
           {
            "marker": {
             "colorbar": {
              "outlinewidth": 0,
              "ticks": ""
             }
            },
            "type": "scatterternary"
           }
          ],
          "surface": [
           {
            "colorbar": {
             "outlinewidth": 0,
             "ticks": ""
            },
            "colorscale": [
             [
              0,
              "#0d0887"
             ],
             [
              0.1111111111111111,
              "#46039f"
             ],
             [
              0.2222222222222222,
              "#7201a8"
             ],
             [
              0.3333333333333333,
              "#9c179e"
             ],
             [
              0.4444444444444444,
              "#bd3786"
             ],
             [
              0.5555555555555556,
              "#d8576b"
             ],
             [
              0.6666666666666666,
              "#ed7953"
             ],
             [
              0.7777777777777778,
              "#fb9f3a"
             ],
             [
              0.8888888888888888,
              "#fdca26"
             ],
             [
              1,
              "#f0f921"
             ]
            ],
            "type": "surface"
           }
          ],
          "table": [
           {
            "cells": {
             "fill": {
              "color": "#EBF0F8"
             },
             "line": {
              "color": "white"
             }
            },
            "header": {
             "fill": {
              "color": "#C8D4E3"
             },
             "line": {
              "color": "white"
             }
            },
            "type": "table"
           }
          ]
         },
         "layout": {
          "annotationdefaults": {
           "arrowcolor": "#2a3f5f",
           "arrowhead": 0,
           "arrowwidth": 1
          },
          "autotypenumbers": "strict",
          "coloraxis": {
           "colorbar": {
            "outlinewidth": 0,
            "ticks": ""
           }
          },
          "colorscale": {
           "diverging": [
            [
             0,
             "#8e0152"
            ],
            [
             0.1,
             "#c51b7d"
            ],
            [
             0.2,
             "#de77ae"
            ],
            [
             0.3,
             "#f1b6da"
            ],
            [
             0.4,
             "#fde0ef"
            ],
            [
             0.5,
             "#f7f7f7"
            ],
            [
             0.6,
             "#e6f5d0"
            ],
            [
             0.7,
             "#b8e186"
            ],
            [
             0.8,
             "#7fbc41"
            ],
            [
             0.9,
             "#4d9221"
            ],
            [
             1,
             "#276419"
            ]
           ],
           "sequential": [
            [
             0,
             "#0d0887"
            ],
            [
             0.1111111111111111,
             "#46039f"
            ],
            [
             0.2222222222222222,
             "#7201a8"
            ],
            [
             0.3333333333333333,
             "#9c179e"
            ],
            [
             0.4444444444444444,
             "#bd3786"
            ],
            [
             0.5555555555555556,
             "#d8576b"
            ],
            [
             0.6666666666666666,
             "#ed7953"
            ],
            [
             0.7777777777777778,
             "#fb9f3a"
            ],
            [
             0.8888888888888888,
             "#fdca26"
            ],
            [
             1,
             "#f0f921"
            ]
           ],
           "sequentialminus": [
            [
             0,
             "#0d0887"
            ],
            [
             0.1111111111111111,
             "#46039f"
            ],
            [
             0.2222222222222222,
             "#7201a8"
            ],
            [
             0.3333333333333333,
             "#9c179e"
            ],
            [
             0.4444444444444444,
             "#bd3786"
            ],
            [
             0.5555555555555556,
             "#d8576b"
            ],
            [
             0.6666666666666666,
             "#ed7953"
            ],
            [
             0.7777777777777778,
             "#fb9f3a"
            ],
            [
             0.8888888888888888,
             "#fdca26"
            ],
            [
             1,
             "#f0f921"
            ]
           ]
          },
          "colorway": [
           "#636efa",
           "#EF553B",
           "#00cc96",
           "#ab63fa",
           "#FFA15A",
           "#19d3f3",
           "#FF6692",
           "#B6E880",
           "#FF97FF",
           "#FECB52"
          ],
          "font": {
           "color": "#2a3f5f"
          },
          "geo": {
           "bgcolor": "white",
           "lakecolor": "white",
           "landcolor": "#E5ECF6",
           "showlakes": true,
           "showland": true,
           "subunitcolor": "white"
          },
          "hoverlabel": {
           "align": "left"
          },
          "hovermode": "closest",
          "mapbox": {
           "style": "light"
          },
          "paper_bgcolor": "white",
          "plot_bgcolor": "#E5ECF6",
          "polar": {
           "angularaxis": {
            "gridcolor": "white",
            "linecolor": "white",
            "ticks": ""
           },
           "bgcolor": "#E5ECF6",
           "radialaxis": {
            "gridcolor": "white",
            "linecolor": "white",
            "ticks": ""
           }
          },
          "scene": {
           "xaxis": {
            "backgroundcolor": "#E5ECF6",
            "gridcolor": "white",
            "gridwidth": 2,
            "linecolor": "white",
            "showbackground": true,
            "ticks": "",
            "zerolinecolor": "white"
           },
           "yaxis": {
            "backgroundcolor": "#E5ECF6",
            "gridcolor": "white",
            "gridwidth": 2,
            "linecolor": "white",
            "showbackground": true,
            "ticks": "",
            "zerolinecolor": "white"
           },
           "zaxis": {
            "backgroundcolor": "#E5ECF6",
            "gridcolor": "white",
            "gridwidth": 2,
            "linecolor": "white",
            "showbackground": true,
            "ticks": "",
            "zerolinecolor": "white"
           }
          },
          "shapedefaults": {
           "line": {
            "color": "#2a3f5f"
           }
          },
          "ternary": {
           "aaxis": {
            "gridcolor": "white",
            "linecolor": "white",
            "ticks": ""
           },
           "baxis": {
            "gridcolor": "white",
            "linecolor": "white",
            "ticks": ""
           },
           "bgcolor": "#E5ECF6",
           "caxis": {
            "gridcolor": "white",
            "linecolor": "white",
            "ticks": ""
           }
          },
          "title": {
           "x": 0.05
          },
          "xaxis": {
           "automargin": true,
           "gridcolor": "white",
           "linecolor": "white",
           "ticks": "",
           "title": {
            "standoff": 15
           },
           "zerolinecolor": "white",
           "zerolinewidth": 2
          },
          "yaxis": {
           "automargin": true,
           "gridcolor": "white",
           "linecolor": "white",
           "ticks": "",
           "title": {
            "standoff": 15
           },
           "zerolinecolor": "white",
           "zerolinewidth": 2
          }
         }
        },
        "title": {
         "text": "Hanoi Tower Success Rates by Configuration"
        },
        "width": 1200,
        "xaxis": {
         "anchor": "y",
         "domain": [
          0,
          1
         ],
         "title": {
          "text": "Number of Disks"
         }
        },
        "yaxis": {
         "anchor": "x",
         "domain": [
          0,
          1
         ],
         "title": {
          "text": "Success Rate (%)"
         }
        }
       }
      }
     },
     "metadata": {},
     "output_type": "display_data"
    }
   ],
   "source": [
    "import plotly.graph_objects as go\n",
    "from plotly.subplots import make_subplots\n",
    "\n",
    "# Create subplots for the three different configurations\n",
    "fig = make_subplots(\n",
    "    rows=1, cols=1,\n",
    "    subplot_titles=('Tool ✓, Pseudocode ✗',)\n",
    ")\n",
    "\n",
    "# Define the three configurations\n",
    "configs = [\n",
    "    {'use_mcp': True, 'add_pseudocode': False}\n",
    "]\n",
    "\n",
    "# Colors for the models\n",
    "colors = {'o4-mini': 'blue', 'gpt-4.1-mini': 'red'}\n",
    "\n",
    "for col, config in enumerate(configs, 1):\n",
    "    # Filter data for this configuration\n",
    "    mask = (success_rates['use_mcp'] == config['use_mcp']) & \\\n",
    "           (success_rates['add_pseudocode'] == config['add_pseudocode'])\n",
    "    config_data = success_rates[mask]\n",
    "    \n",
    "    # Plot each model\n",
    "    for model in ['o4-mini', 'gpt-4.1-mini']:\n",
    "        model_data = config_data[config_data['model_name'] == model]\n",
    "        \n",
    "        fig.add_trace(\n",
    "            go.Scatter(\n",
    "                x=model_data['n_disks'],\n",
    "                y=model_data['success_rate_percent'],\n",
    "                mode='lines+markers',\n",
    "                name=f'{model}',\n",
    "                line=dict(color=colors[model]),\n",
    "                showlegend=(col == 1),  # Only show legend for first subplot\n",
    "                hovertemplate='<b>%{fullData.name}</b><br>' +\n",
    "                            'Disks: %{x}<br>' +\n",
    "                            'Success Rate: %{y:.1f}%<br>' +\n",
    "                            '<extra></extra>'\n",
    "            ),\n",
    "            row=1, col=col\n",
    "        )\n",
    "\n",
    "# Update layout\n",
    "fig.update_layout(\n",
    "    title='Hanoi Tower Success Rates by Configuration',\n",
    "    height=500,\n",
    "    width=1200,\n",
    "    showlegend=True,\n",
    "    legend=dict(\n",
    "        orientation=\"h\",\n",
    "        yanchor=\"bottom\",\n",
    "        y=1.02,\n",
    "        xanchor=\"right\",\n",
    "        x=1\n",
    "    )\n",
    ")\n",
    "\n",
    "# Update axes labels\n",
    "for i in range(1, 4):\n",
    "    fig.update_xaxes(title_text=\"Number of Disks\", row=1, col=i)\n",
    "    fig.update_yaxes(title_text=\"Success Rate (%)\", row=1, col=i)\n",
    "\n",
    "fig.show()"
   ]
  },
  {
   "cell_type": "markdown",
   "metadata": {},
   "source": [
    "Figure: Success rates for solving the Tower of Hanoi puzzle with verbose tool use (i.e. v2). \n",
    "The two AI models previously used as color-coded as in previous figure: o4-mini (blue) and gpt-4.1-mini (red). The trends suggest that both models struggle more with larger disk counts. Interestingly the verbose tool improve the performance for n=6, but not the one above."
   ]
  },
  {
   "cell_type": "markdown",
   "metadata": {},
   "source": [
    "> The verbose tool improve the performance for n=6, but not the one above."
   ]
  },
  {
   "cell_type": "markdown",
   "metadata": {},
   "source": [
    "# Conclusion and open questions\n",
    "\n",
    "\n",
    "## Summary of Findings\n",
    "\n",
    "Our experimental analysis of AI models solving the Tower of Hanoi puzzle revealed:\n",
    "\n",
    "### Performance Patterns\n",
    "- **Tool Usage Impact**: \n",
    "    1. Tool usage improved more the performance of the non-thinking model that its thinking alternative\n",
    "    2. The verbose tool implementation (v2) showed improved performance for 6-disk puzzles but did not extend to larger disk counts\n",
    "\n",
    "- **Complexity Challenge**: Success rates dropped dramatically reaching 0% for 8+ disks, even when tool were used to solve the problem\n",
    "\n",
    "### Following thoughts\n",
    "\n",
    "1. **Performance Degradation**: Why do both models exhibit such a dramatic drop in performance between 6 and 8 disks? This suggests a fundamental limitation in the models' reasoning capabilities for this type of recursive problem.\n",
    "\n",
    "2. **Tool Effectiveness**: While verbose tool use improved 6-disk performance, why does this improvement not scale to larger disk counts? Perhaps a more interactive approach with validation procedures would help to solve the problem accurately -> aka more tools.\n",
    "\n",
    "\n",
    "# Meta information:\n",
    "- Budget: 22$\n",
    "- Writing Time (code+text): ~4 hours\n",
    "- Running Time: ~24 hours"
   ]
  },
  {
   "cell_type": "markdown",
   "metadata": {},
   "source": []
  }
 ],
 "metadata": {
  "kernelspec": {
   "display_name": ".venv",
   "language": "python",
   "name": "python3"
  },
  "language_info": {
   "codemirror_mode": {
    "name": "ipython",
    "version": 3
   },
   "file_extension": ".py",
   "mimetype": "text/x-python",
   "name": "python",
   "nbconvert_exporter": "python",
   "pygments_lexer": "ipython3",
   "version": "3.12.10"
  }
 },
 "nbformat": 4,
 "nbformat_minor": 2
}
